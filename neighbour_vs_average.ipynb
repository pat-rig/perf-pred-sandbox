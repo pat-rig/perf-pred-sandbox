{
 "cells": [
  {
   "cell_type": "markdown",
   "id": "bb17eb15",
   "metadata": {},
   "source": [
    "# Neighbourhood-Based Performance Prediction on MNIST"
   ]
  },
  {
   "cell_type": "markdown",
   "id": "d5744fed",
   "metadata": {},
   "source": [
    "## 0. Preparation \n",
    "### Load Test Data: Embedding, Softmax Activations and Labels"
   ]
  },
  {
   "cell_type": "code",
   "execution_count": 1,
   "id": "5d40914e",
   "metadata": {},
   "outputs": [],
   "source": [
    "import pandas as pd\n",
    "import numpy as np\n",
    "from sklearn.neighbors import NearestNeighbors"
   ]
  },
  {
   "cell_type": "code",
   "execution_count": 29,
   "id": "06a44c7f",
   "metadata": {},
   "outputs": [],
   "source": [
    "embeddings = pd.read_csv('test_activations.csv', usecols = [i for i in range(1, 129)])\n",
    "labels = pd.read_csv('test_labels.csv', usecols = [1])\n",
    "log_softmax = pd.read_csv('test_log_softmax.csv', usecols = [i for i in range(1, 11)])"
   ]
  },
  {
   "cell_type": "code",
   "execution_count": 3,
   "id": "4b14a97f",
   "metadata": {},
   "outputs": [],
   "source": [
    "# transform log_softmax to softmax\n",
    "softmax = np.round(np.exp(log_softmax), decimals=5) # numerical irregularities"
   ]
  },
  {
   "cell_type": "markdown",
   "id": "a359f423",
   "metadata": {},
   "source": [
    "### Load embeddings of Training Data"
   ]
  },
  {
   "cell_type": "code",
   "execution_count": 36,
   "id": "fa8f213e",
   "metadata": {},
   "outputs": [],
   "source": [
    "train_embeddings = pd.read_csv('train_activations.csv', usecols = [i for i in range(1, 129)])\n",
    "train_labels = pd.read_csv('train_labels.csv', usecols = [1])\n",
    "train_log_softmax = pd.read_csv('train_log_softmax.csv', usecols = [i for i in range(1, 11)])"
   ]
  },
  {
   "cell_type": "code",
   "execution_count": 42,
   "id": "d5f826c7",
   "metadata": {},
   "outputs": [],
   "source": [
    "train_softmax = np.round(np.exp(train_log_softmax), decimals=5) # numerical irregularities"
   ]
  },
  {
   "cell_type": "markdown",
   "id": "e89acfe1",
   "metadata": {},
   "source": [
    "## 1. Ground Truth and Baseline\n",
    "### Compute true Accuracy"
   ]
  },
  {
   "cell_type": "code",
   "execution_count": 4,
   "id": "933bc4d6",
   "metadata": {},
   "outputs": [],
   "source": [
    "predictions = softmax.idxmax(axis=1)\n",
    "predictions = predictions.astype('int')"
   ]
  },
  {
   "cell_type": "code",
   "execution_count": 5,
   "id": "e7a8bcce",
   "metadata": {},
   "outputs": [
    {
     "name": "stdout",
     "output_type": "stream",
     "text": [
      "True test-set accuracy of the model:  0.9865\n"
     ]
    }
   ],
   "source": [
    "true_acc = (predictions == pd.Series(labels['0'])).sum() / len(predictions)\n",
    "print('True test-set accuracy of the model: ', true_acc)"
   ]
  },
  {
   "cell_type": "markdown",
   "id": "47f0a354",
   "metadata": {},
   "source": [
    "### Estimate Accuracy through average softmax confidence"
   ]
  },
  {
   "cell_type": "code",
   "execution_count": 51,
   "id": "19573e11",
   "metadata": {},
   "outputs": [
    {
     "name": "stdout",
     "output_type": "stream",
     "text": [
      "Average softmax confidence:  0.989314257000017\n"
     ]
    }
   ],
   "source": [
    "conf_acc = softmax.max(axis=1).mean()\n",
    "print('Average softmax confidence: ', conf_acc)"
   ]
  },
  {
   "cell_type": "markdown",
   "id": "3b90a877",
   "metadata": {},
   "source": [
    "## 2. Nearest Neighbor Approach"
   ]
  },
  {
   "cell_type": "markdown",
   "id": "6c3bb490",
   "metadata": {},
   "source": [
    "### Find neighboring training points for each test point"
   ]
  },
  {
   "cell_type": "code",
   "execution_count": 79,
   "id": "de5ab6ed",
   "metadata": {},
   "outputs": [],
   "source": [
    "k = 10\n",
    "# For each test point: Find nearest training neighbours in embedding space\n",
    "nbrs = NearestNeighbors(n_neighbors=k, algorithm='auto').fit(train_embeddings)\n",
    "nb_distances, nb_indices = nbrs.kneighbors(embeddings)"
   ]
  },
  {
   "cell_type": "markdown",
   "id": "4e3c4410",
   "metadata": {},
   "source": [
    "### Average softmax-confidence of all neighbors"
   ]
  },
  {
   "cell_type": "code",
   "execution_count": 80,
   "id": "0133a440",
   "metadata": {},
   "outputs": [],
   "source": [
    "# Average confidences over neighbors\n",
    "neighbor_softmax = []\n",
    "n_obs = nb_indices.shape[0]\n",
    "for i in range(n_obs):\n",
    "    neighbor_confs = train_softmax.max(axis=1)[nb_indices[i, :]].mean()\n",
    "    neighbor_softmax.append(neighbor_confs)"
   ]
  },
  {
   "cell_type": "code",
   "execution_count": 81,
   "id": "4ff7f756",
   "metadata": {},
   "outputs": [
    {
     "data": {
      "text/plain": [
       "0.9936490487000001"
      ]
     },
     "execution_count": 81,
     "metadata": {},
     "output_type": "execute_result"
    }
   ],
   "source": [
    "np.array(neighbor_softmax).mean()"
   ]
  },
  {
   "cell_type": "markdown",
   "id": "0d1cb475",
   "metadata": {},
   "source": [
    "<b> 1. Neighborhood Confidence performs worse. </b>\n",
    "\n",
    "But: We did not include the information on whether the prediction was correct.\n",
    "\n",
    "$\\leftarrow$ Rationale:  When a close neighbor's prediction was wrong despite high confidence, we shall decrease the confidence of the query point.\n",
    "\n",
    "$\\leftarrow$ Check this heuristic visually: For all misclassified test points plot the fraction of wrong predictions in the neighborhood.\n",
    "\n",
    "<b> 2. We seem to identify appropriate nearest neighbors, as our estimation is close to GT. </b>"
   ]
  },
  {
   "cell_type": "markdown",
   "id": "c9462b66",
   "metadata": {},
   "source": [
    "### Multiply confidence with fraction of correct classifications in the neighborhood"
   ]
  },
  {
   "cell_type": "code",
   "execution_count": null,
   "id": "bd118c9c",
   "metadata": {},
   "outputs": [],
   "source": []
  }
 ],
 "metadata": {
  "kernelspec": {
   "display_name": "Python 3 (ipykernel)",
   "language": "python",
   "name": "python3"
  },
  "language_info": {
   "codemirror_mode": {
    "name": "ipython",
    "version": 3
   },
   "file_extension": ".py",
   "mimetype": "text/x-python",
   "name": "python",
   "nbconvert_exporter": "python",
   "pygments_lexer": "ipython3",
   "version": "3.9.15"
  }
 },
 "nbformat": 4,
 "nbformat_minor": 5
}
